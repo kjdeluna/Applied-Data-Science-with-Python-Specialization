{
 "cells": [
  {
   "cell_type": "markdown",
   "metadata": {
    "deletable": false,
    "editable": false,
    "nbgrader": {
     "checksum": "48770f8b5f5d3062d3badd51fcafc401",
     "grade": false,
     "grade_id": "cell-a6c4f74309fc2379",
     "locked": true,
     "schema_version": 1,
     "solution": false
    }
   },
   "source": [
    "# Assignment 4\n",
    "## Description\n",
    "In this assignment you must read in a file of metropolitan regions and associated sports teams from [assets/wikipedia_data.html](assets/wikipedia_data.html) and answer some questions about each metropolitan region. Each of these regions may have one or more teams from the \"Big 4\": NFL (football, in [assets/nfl.csv](assets/nfl.csv)), MLB (baseball, in [assets/mlb.csv](assets/mlb.csv)), NBA (basketball, in [assets/nba.csv](assets/nba.csv) or NHL (hockey, in [assets/nhl.csv](assets/nhl.csv)). Please keep in mind that all questions are from the perspective of the metropolitan region, and that this file is the \"source of authority\" for the location of a given sports team. Thus teams which are commonly known by a different area (e.g. \"Oakland Raiders\") need to be mapped into the metropolitan region given (e.g. San Francisco Bay Area). This will require some human data understanding outside of the data you've been given (e.g. you will have to hand-code some names, and might need to google to find out where teams are)!\n",
    "\n",
    "For each sport I would like you to answer the question: **what is the win/loss ratio's correlation with the population of the city it is in?** Win/Loss ratio refers to the number of wins over the number of wins plus the number of losses. Remember that to calculate the correlation with [`pearsonr`](https://docs.scipy.org/doc/scipy/reference/generated/scipy.stats.pearsonr.html), so you are going to send in two ordered lists of values, the populations from the wikipedia_data.html file and the win/loss ratio for a given sport in the same order. Average the win/loss ratios for those cities which have multiple teams of a single sport. Each sport is worth an equal amount in this assignment (20%\\*4=80%) of the grade for this assignment. You should only use data **from year 2018** for your analysis -- this is important!\n",
    "\n",
    "## Notes\n",
    "\n",
    "1. Do not include data about the MLS or CFL in any of the work you are doing, we're only interested in the Big 4 in this assignment.\n",
    "2. I highly suggest that you first tackle the four correlation questions in order, as they are all similar and worth the majority of grades for this assignment. This is by design!\n",
    "3. It's fair game to talk with peers about high level strategy as well as the relationship between metropolitan areas and sports teams. However, do not post code solving aspects of the assignment (including such as dictionaries mapping areas to teams, or regexes which will clean up names).\n",
    "4. There may be more teams than the assert statements test, remember to collapse multiple teams in one city into a single value!"
   ]
  },
  {
   "cell_type": "markdown",
   "metadata": {
    "deletable": false,
    "editable": false,
    "nbgrader": {
     "checksum": "369ff9ecf0ee04640574205cbc697f94",
     "grade": false,
     "grade_id": "cell-712b2b5da63d4505",
     "locked": true,
     "schema_version": 1,
     "solution": false
    }
   },
   "source": [
    "## Question 1\n",
    "For this question, calculate the win/loss ratio's correlation with the population of the city it is in for the **NHL** using **2018** data."
   ]
  },
  {
   "cell_type": "code",
   "execution_count": 1,
   "metadata": {
    "deletable": false,
    "nbgrader": {
     "checksum": "1cac4803b02502929f5b1612d48db2b5",
     "grade": false,
     "grade_id": "cell-69b16e4386e58030",
     "locked": false,
     "schema_version": 1,
     "solution": true
    }
   },
   "outputs": [],
   "source": [
    "import pandas as pd\n",
    "import numpy as np\n",
    "import scipy.stats as stats\n",
    "import re\n",
    "\n",
    "nhl_df=pd.read_csv(\"assets/nhl.csv\")\n",
    "cities=pd.read_html(\"assets/wikipedia_data.html\")[1]\n",
    "cities=cities.iloc[:-1,[0,3,5,6,7,8]]\n",
    "\n",
    "def nhl_correlation(): \n",
    "    # Function to compute win-loss ratio by area\n",
    "    def compute_wl_ratio_by_area(teams):\n",
    "        wins = 0\n",
    "        losses = 0\n",
    "        for team in teams:\n",
    "            wins += nhl_df[nhl_df['team'].str.contains(team)]['W'].sum()\n",
    "            losses += nhl_df[nhl_df['team'].str.contains(team)]['L'].sum()\n",
    "        return wins/(wins+losses)\n",
    "    \n",
    "    nhl_df=pd.read_csv(\"assets/nhl.csv\")\n",
    "    cities=pd.read_html(\"assets/wikipedia_data.html\")[1]\n",
    "    cities=cities.iloc[:-1,[0,3,5,6,7,8]]\n",
    "\n",
    "    # Clean up nhl_df\n",
    "    nhl_df = nhl_df[nhl_df['year'] == 2018]\n",
    "    nhl_df = nhl_df[~nhl_df['team'].str.contains('Division')]\n",
    "    # Almost all of the columns are of type 'str', cast them to numeric\n",
    "    nhl_numeric_columns = nhl_df.columns[1:-1]\n",
    "    nhl_df[nhl_numeric_columns] = nhl_df[nhl_numeric_columns].apply(pd.to_numeric)\n",
    "\n",
    "    # Remove [note **] patterns\n",
    "    cities['NHL'] = cities['NHL'].str.extract('^(?P<Teams>[\\w ]+)(?:\\[note [\\d]\\])?')['Teams']\n",
    "    # Cast population column to numeric\n",
    "    cities['Population (2016 est.)[8]'] = pd.to_numeric(cities['Population (2016 est.)[8]'])\n",
    "    # Drop empty teams\n",
    "    cities['NHL'] = cities['NHL'].replace('—',np.nan)\n",
    "    cities = cities[~cities['NHL'].isna()]\n",
    "\n",
    "    # Extract team names per metropolitan area\n",
    "    cities['NHL'] = cities['NHL'].str.findall('([A-Z][a-z0-9]+ [A-Z][a-z0-9]+)|([A-Z][a-z0-9 ]+)').apply(lambda x: [cg1 if cg2 == '' else cg2 for cg1,cg2 in x])\n",
    "    cities['Win Loss Ratio'] = cities['NHL'].apply(compute_wl_ratio_by_area)\n",
    "    \n",
    "    population_by_region = cities['Population (2016 est.)[8]'] # pass in metropolitan area population from cities\n",
    "    win_loss_by_region = cities['Win Loss Ratio'] # pass in win/loss ratio from nhl_df in the same order as cities[\"Metropolitan area\"]\n",
    "\n",
    "    assert len(population_by_region) == len(win_loss_by_region), \"Q1: Your lists must be the same length\"\n",
    "    assert len(population_by_region) == 28, \"Q1: There should be 28 teams being analysed for NHL\"\n",
    "    \n",
    "    return stats.pearsonr(population_by_region, win_loss_by_region)[0]"
   ]
  },
  {
   "cell_type": "code",
   "execution_count": null,
   "metadata": {
    "deletable": false,
    "editable": false,
    "nbgrader": {
     "checksum": "52a581df513c71153e105b93764cda4b",
     "grade": true,
     "grade_id": "cell-ebe0b2dfe1067e63",
     "locked": true,
     "points": 20,
     "schema_version": 1,
     "solution": false
    }
   },
   "outputs": [],
   "source": []
  },
  {
   "cell_type": "markdown",
   "metadata": {
    "deletable": false,
    "editable": false,
    "nbgrader": {
     "checksum": "988912cae4968d81473f46d783e79c16",
     "grade": false,
     "grade_id": "cell-cb964e690298b71d",
     "locked": true,
     "schema_version": 1,
     "solution": false
    }
   },
   "source": [
    "## Question 2\n",
    "For this question, calculate the win/loss ratio's correlation with the population of the city it is in for the **NBA** using **2018** data."
   ]
  },
  {
   "cell_type": "code",
   "execution_count": 2,
   "metadata": {
    "deletable": false,
    "nbgrader": {
     "checksum": "9394222aafc8ccab0a228098ba0d6010",
     "grade": false,
     "grade_id": "cell-5a5f21279e3d3572",
     "locked": false,
     "schema_version": 1,
     "solution": true
    }
   },
   "outputs": [],
   "source": [
    "import pandas as pd\n",
    "import numpy as np\n",
    "import scipy.stats as stats\n",
    "import re\n",
    "\n",
    "nba_df=pd.read_csv(\"assets/nba.csv\")\n",
    "cities=pd.read_html(\"assets/wikipedia_data.html\")[1]\n",
    "cities=cities.iloc[:-1,[0,3,5,6,7,8]]\n",
    "\n",
    "def nba_correlation():\n",
    "    def compute_wl_ratio_by_area(teams):\n",
    "        wins = 0\n",
    "        losses = 0\n",
    "        for team in teams:\n",
    "            wins += nba_df[nba_df['team'].str.contains(team)]['W'].sum()\n",
    "            losses += nba_df[nba_df['team'].str.contains(team)]['L'].sum()\n",
    "        return wins/(wins+losses)\n",
    "    \n",
    "    nba_df=pd.read_csv(\"assets/nba.csv\")\n",
    "    cities=pd.read_html(\"assets/wikipedia_data.html\")[1]\n",
    "    cities=cities.iloc[:-1,[0,3,5,6,7,8]]\n",
    "\n",
    "    # Clean up nba_df\n",
    "    nba_df = nba_df[nba_df['year'] == 2018]\n",
    "    nba_df = nba_df[~nba_df['team'].str.contains('Division')]\n",
    "    nba_df = nba_df.replace('—',np.nan)\n",
    "    # Almost all of the columns are of type 'str', cast them to numeric\n",
    "    nba_numeric_columns = nba_df.columns[1:-1]\n",
    "    nba_df[nba_numeric_columns] = nba_df[nba_numeric_columns].apply(pd.to_numeric)\n",
    "\n",
    "    # Remove [note **] patterns\n",
    "    cities['NBA'] = cities['NBA'].str.extract('^(?P<Teams>[\\w ]+)(?:\\[note [\\d]\\])?')['Teams']\n",
    "    # Cast population column to numeric\n",
    "    cities['Population (2016 est.)[8]'] = pd.to_numeric(cities['Population (2016 est.)[8]'])\n",
    "    # Drop empty teams\n",
    "    cities['NBA'] = cities['NBA'].replace('—',np.nan)\n",
    "    cities = cities[~cities['NBA'].isna()]\n",
    "\n",
    "    # Extract team names per metropolitan area\n",
    "    cities['NBA'] = cities['NBA'].str.findall('([A-Z0-9][a-z0-9]+ [A-Z0-9][a-z0-9]+)|([A-Z0-9][a-z0-9 ]+)').apply(lambda x: [cg1 if cg2 == '' else cg2 for cg1,cg2 in x])\n",
    "    cities['Win Loss Ratio'] = cities['NBA'].apply(compute_wl_ratio_by_area)\n",
    "    population_by_region = cities['Population (2016 est.)[8]'] # pass in metropolitan area population from cities\n",
    "    win_loss_by_region = cities['Win Loss Ratio'] # pass in win/loss ratio from nhl_df in the same order as cities[\"Metropolitan area\"]\n",
    "\n",
    "    assert len(population_by_region) == len(win_loss_by_region), \"Q2: Your lists must be the same length\"\n",
    "    assert len(population_by_region) == 28, \"Q2: There should be 28 teams being analysed for NBA\"\n",
    "    \n",
    "    return stats.pearsonr(population_by_region, win_loss_by_region)[0]"
   ]
  },
  {
   "cell_type": "code",
   "execution_count": null,
   "metadata": {
    "deletable": false,
    "editable": false,
    "nbgrader": {
     "checksum": "bbdeb8eb22f525a34c10dc8798324e42",
     "grade": true,
     "grade_id": "cell-e573b2b4a282b470",
     "locked": true,
     "points": 20,
     "schema_version": 1,
     "solution": false
    }
   },
   "outputs": [],
   "source": []
  },
  {
   "cell_type": "markdown",
   "metadata": {
    "deletable": false,
    "editable": false,
    "nbgrader": {
     "checksum": "1a1a5809f675ca033086422007cd73bd",
     "grade": false,
     "grade_id": "cell-96e15e4335df78f4",
     "locked": true,
     "schema_version": 1,
     "solution": false
    }
   },
   "source": [
    "## Question 3\n",
    "For this question, calculate the win/loss ratio's correlation with the population of the city it is in for the **MLB** using **2018** data."
   ]
  },
  {
   "cell_type": "code",
   "execution_count": 3,
   "metadata": {
    "deletable": false,
    "nbgrader": {
     "checksum": "27e8c0da6c9fa0dffc10488314335b6c",
     "grade": false,
     "grade_id": "cell-33b00fc3f3467b0c",
     "locked": false,
     "schema_version": 1,
     "solution": true
    }
   },
   "outputs": [],
   "source": [
    "import pandas as pd\n",
    "import numpy as np\n",
    "import scipy.stats as stats\n",
    "import re\n",
    "\n",
    "mlb_df=pd.read_csv(\"assets/mlb.csv\")\n",
    "cities=pd.read_html(\"assets/wikipedia_data.html\")[1]\n",
    "cities=cities.iloc[:-1,[0,3,5,6,7,8]]\n",
    "\n",
    "def mlb_correlation(): \n",
    "    def compute_wl_ratio_by_area(teams):\n",
    "        wins = 0\n",
    "        losses = 0\n",
    "        for team in teams:\n",
    "            wins += mlb_df[mlb_df['team'].str.contains(team)]['W'].sum()\n",
    "            losses += mlb_df[mlb_df['team'].str.contains(team)]['L'].sum()\n",
    "        return wins/(wins+losses)\n",
    "    \n",
    "    mlb_df=pd.read_csv(\"assets/mlb.csv\")\n",
    "    cities=pd.read_html(\"assets/wikipedia_data.html\")[1]\n",
    "    cities=cities.iloc[:-1,[0,3,5,6,7,8]]\n",
    "    # Clean up mlb df\n",
    "    mlb_df = mlb_df[mlb_df['year'] == 2018]\n",
    "    mlb_df = mlb_df[~mlb_df['team'].str.contains('Division')]\n",
    "    mlb_df = mlb_df.replace('—',np.nan)\n",
    "    mlb_df = mlb_df.replace('--',np.nan)\n",
    "    # Almost all of the columns are of type 'str', cast them to numeric\n",
    "    mlb_numeric_columns = mlb_df.columns[1:-1]\n",
    "    mlb_df[mlb_numeric_columns] = mlb_df[mlb_numeric_columns].apply(pd.to_numeric)\n",
    "\n",
    "    # Remove [note **] patterns\n",
    "    cities['MLB'] = cities['MLB'].str.extract('^(?P<Teams>[\\w ]+)(?:\\[note [\\d]\\])?')['Teams']\n",
    "    # Cast population column to numeric\n",
    "    cities['Population (2016 est.)[8]'] = pd.to_numeric(cities['Population (2016 est.)[8]'])\n",
    "    # Drop empty teams\n",
    "    cities['MLB'] = cities['MLB'].replace('—',np.nan)\n",
    "    cities = cities[~cities['MLB'].isna()]\n",
    "\n",
    "    # Extract team names per metropolitan area\n",
    "    cities['MLB'] = cities['MLB'].str.findall('([A-Z0-9][a-z0-9]+ [A-Z0-9][a-z0-9]+)|([A-Z0-9][a-z0-9 ]+)').apply(lambda x: [cg1 if cg2 == '' else cg2 for cg1,cg2 in x])\n",
    "    cities['Win Loss Ratio'] = cities['MLB'].apply(compute_wl_ratio_by_area)\n",
    "    population_by_region = cities['Population (2016 est.)[8]'] # pass in metropolitan area population from cities\n",
    "    win_loss_by_region = cities['Win Loss Ratio'] # pass in win/loss ratio from nhl_df in the same order as cities[\"Metropolitan area\"]\n",
    "    assert len(population_by_region) == len(win_loss_by_region), \"Q3: Your lists must be the same length\"\n",
    "    assert len(population_by_region) == 26, \"Q3: There should be 26 teams being analysed for MLB\"\n",
    "\n",
    "    return stats.pearsonr(population_by_region, win_loss_by_region)[0]"
   ]
  },
  {
   "cell_type": "code",
   "execution_count": null,
   "metadata": {
    "deletable": false,
    "editable": false,
    "nbgrader": {
     "checksum": "cda33b094ba19ccc37a481e0dd29e0bc",
     "grade": true,
     "grade_id": "cell-764d4476f425c5a2",
     "locked": true,
     "points": 20,
     "schema_version": 1,
     "solution": false
    }
   },
   "outputs": [],
   "source": []
  },
  {
   "cell_type": "markdown",
   "metadata": {
    "deletable": false,
    "editable": false,
    "nbgrader": {
     "checksum": "6977a6da9ed6d8b7a0b7e37bbeda709b",
     "grade": false,
     "grade_id": "cell-793df6c04dfb126e",
     "locked": true,
     "schema_version": 1,
     "solution": false
    }
   },
   "source": [
    "## Question 4\n",
    "For this question, calculate the win/loss ratio's correlation with the population of the city it is in for the **NFL** using **2018** data."
   ]
  },
  {
   "cell_type": "code",
   "execution_count": 4,
   "metadata": {
    "deletable": false,
    "nbgrader": {
     "checksum": "c4914ad1e119278ec2bd567c52640b66",
     "grade": false,
     "grade_id": "cell-8ccebc209aeec8d9",
     "locked": false,
     "schema_version": 1,
     "solution": true
    },
    "scrolled": true
   },
   "outputs": [],
   "source": [
    "import pandas as pd\n",
    "import numpy as np\n",
    "import scipy.stats as stats\n",
    "import re\n",
    "\n",
    "nfl_df=pd.read_csv(\"assets/nfl.csv\")\n",
    "cities=pd.read_html(\"assets/wikipedia_data.html\")[1]\n",
    "cities=cities.iloc[:-1,[0,3,5,6,7,8]]\n",
    "\n",
    "def nfl_correlation(): \n",
    "    def compute_wl_ratio_by_area(teams):\n",
    "        wins = 0\n",
    "        losses = 0\n",
    "        for team in teams:\n",
    "            wins += nfl_df[nfl_df['team'].str.contains(team)]['W'].sum()\n",
    "            losses += nfl_df[nfl_df['team'].str.contains(team)]['L'].sum()\n",
    "        return wins/(wins+losses)\n",
    "    \n",
    "    nfl_df=pd.read_csv(\"assets/nfl.csv\")\n",
    "    cities=pd.read_html(\"assets/wikipedia_data.html\")[1]\n",
    "    cities=cities.iloc[:-1,[0,3,5,6,7,8]]\n",
    "    # Clean up nfl df\n",
    "    nfl_df = nfl_df[nfl_df['year'] == 2018]\n",
    "    nfl_df = nfl_df[~((nfl_df['team'].str.contains('AFC'))|(nfl_df['team'].str.contains('NFC')))]\n",
    "    nfl_df = nfl_df.replace('—',np.nan)\n",
    "    nfl_df = nfl_df.replace('--',np.nan)\n",
    "    # Almost all of the columns are of type 'str', cast them to numeric\n",
    "    nfl_numeric_columns = list(nfl_df.columns[:2]) + list(nfl_df.columns[3:-2])\n",
    "    nfl_df[nfl_numeric_columns] = nfl_df[nfl_numeric_columns].apply(pd.to_numeric)\n",
    "\n",
    "    # Remove [note **] patterns\n",
    "    cities['NFL'] = cities['NFL'].str.extract('^(?P<Teams>[\\w ]+)(?:\\[note [\\d]\\])?')['Teams']\n",
    "    # Cast population column to numeric\n",
    "    cities['Population (2016 est.)[8]'] = pd.to_numeric(cities['Population (2016 est.)[8]'])\n",
    "    # Drop empty teams\n",
    "    cities['NFL'] = cities['NFL'].replace('—',np.nan)\n",
    "    cities = cities[~cities['NFL'].isna()]\n",
    "\n",
    "    # Extract team names per metropolitan area\n",
    "\n",
    "    cities['NFL'] = cities['NFL'].str.findall('([A-Z0-9][a-z0-9]+ [A-Z0-9][a-z0-9]+)|([A-Z0-9][a-z0-9 ]+)').apply(lambda x: [cg1 if cg2 == '' else cg2 for cg1,cg2 in x])\n",
    "    cities['Win Loss Ratio'] = cities['NFL'].apply(compute_wl_ratio_by_area)\n",
    "    population_by_region = cities['Population (2016 est.)[8]'] # pass in metropolitan area population from cities\n",
    "    win_loss_by_region = cities['Win Loss Ratio'] # pass in win/loss ratio from nhl_df in the same order as cities[\"Metropolitan area\"]\n",
    "\n",
    "    assert len(population_by_region) == len(win_loss_by_region), \"Q4: Your lists must be the same length\"\n",
    "    assert len(population_by_region) == 29, \"Q4: There should be 29 teams being analysed for NFL\"\n",
    "\n",
    "    return stats.pearsonr(population_by_region, win_loss_by_region)[0]\n"
   ]
  },
  {
   "cell_type": "code",
   "execution_count": null,
   "metadata": {
    "deletable": false,
    "editable": false,
    "nbgrader": {
     "checksum": "e9415d6399aa49e3a1a60813afdefa3b",
     "grade": true,
     "grade_id": "cell-de7b148b9554dbda",
     "locked": true,
     "points": 20,
     "schema_version": 1,
     "solution": false
    }
   },
   "outputs": [],
   "source": []
  },
  {
   "cell_type": "markdown",
   "metadata": {
    "deletable": false,
    "editable": false,
    "nbgrader": {
     "checksum": "b02d5cd3273f561e4ae939bb2a41740c",
     "grade": false,
     "grade_id": "cell-97b49d8639e908c4",
     "locked": true,
     "schema_version": 1,
     "solution": false
    }
   },
   "source": [
    "## Question 5\n",
    "In this question I would like you to explore the hypothesis that **given that an area has two sports teams in different sports, those teams will perform the same within their respective sports**. How I would like to see this explored is with a series of paired t-tests (so use [`ttest_rel`](https://docs.scipy.org/doc/scipy/reference/generated/scipy.stats.ttest_rel.html)) between all pairs of sports. Are there any sports where we can reject the null hypothesis? Again, average values where a sport has multiple teams in one region. Remember, you will only be including, for each sport, cities which have teams engaged in that sport, drop others as appropriate. This question is worth 20% of the grade for this assignment."
   ]
  },
  {
   "cell_type": "code",
   "execution_count": 5,
   "metadata": {
    "deletable": false,
    "nbgrader": {
     "checksum": "6d78c961eb66f8d8c81f06d33ae8f393",
     "grade": false,
     "grade_id": "cell-92f25f44b8d1179f",
     "locked": false,
     "schema_version": 1,
     "solution": true
    }
   },
   "outputs": [],
   "source": [
    "import pandas as pd\n",
    "import numpy as np\n",
    "import scipy.stats as stats\n",
    "import re\n",
    "\n",
    "mlb_df=pd.read_csv(\"assets/mlb.csv\")\n",
    "nhl_df=pd.read_csv(\"assets/nhl.csv\")\n",
    "nba_df=pd.read_csv(\"assets/nba.csv\")\n",
    "nfl_df=pd.read_csv(\"assets/nfl.csv\")\n",
    "cities=pd.read_html(\"assets/wikipedia_data.html\")[1]\n",
    "cities=cities.iloc[:-1,[0,3,5,6,7,8]]\n",
    "\n",
    "def sports_team_performance():\n",
    "    mlb_df=pd.read_csv(\"assets/mlb.csv\")\n",
    "    nhl_df=pd.read_csv(\"assets/nhl.csv\")\n",
    "    nba_df=pd.read_csv(\"assets/nba.csv\")\n",
    "    nfl_df=pd.read_csv(\"assets/nfl.csv\")\n",
    "    cities=pd.read_html(\"assets/wikipedia_data.html\")[1]\n",
    "    cities=cities.iloc[:-1,[0,3,5,6,7,8]]\n",
    "    \n",
    "    def nhl_compute_wl_ratio_by_area(teams):\n",
    "        wins = 0\n",
    "        losses = 0\n",
    "        for team in teams:\n",
    "            wins += nhl_df[nhl_df['team'].str.contains(team)]['W'].sum()\n",
    "            losses += nhl_df[nhl_df['team'].str.contains(team)]['L'].sum()\n",
    "        return wins/(wins+losses) if wins + losses != 0 else np.nan\n",
    "    \n",
    "    def nba_compute_wl_ratio_by_area(teams):\n",
    "        wins = 0\n",
    "        losses = 0\n",
    "        for team in teams:\n",
    "            wins += nba_df[nba_df['team'].str.contains(team)]['W'].sum()\n",
    "            losses += nba_df[nba_df['team'].str.contains(team)]['L'].sum()\n",
    "        return wins/(wins+losses) if wins + losses != 0 else np.nan\n",
    "    \n",
    "    def mlb_compute_wl_ratio_by_area(teams):\n",
    "        wins = 0\n",
    "        losses = 0\n",
    "        for team in teams:\n",
    "            wins += mlb_df[mlb_df['team'].str.contains(team)]['W'].sum()\n",
    "            losses += mlb_df[mlb_df['team'].str.contains(team)]['L'].sum()\n",
    "        return wins/(wins+losses) if wins + losses != 0 else np.nan\n",
    "    \n",
    "    def nfl_compute_wl_ratio_by_area(teams):\n",
    "        wins = 0\n",
    "        losses = 0\n",
    "        for team in teams:\n",
    "            wins += nfl_df[nfl_df['team'].str.contains(team)]['W'].sum()\n",
    "            losses += nfl_df[nfl_df['team'].str.contains(team)]['L'].sum()\n",
    "        return wins/(wins+losses) if wins + losses != 0 else np.nan\n",
    "\n",
    "    # YOUR CODE HERE\n",
    "\n",
    "    \n",
    "    # NHL\n",
    "    nhl_df = nhl_df[nhl_df['year'] == 2018]\n",
    "    nhl_df = nhl_df[~nhl_df['team'].str.contains('Division')]\n",
    "    # Almost all of the columns are of type 'str', cast them to numeric\n",
    "    nhl_numeric_columns = nhl_df.columns[1:-1]\n",
    "    nhl_df[nhl_numeric_columns] = nhl_df[nhl_numeric_columns].apply(pd.to_numeric)\n",
    "\n",
    "    # Remove [note **] patterns\n",
    "    cities['NHL'] = cities['NHL'].str.extract('^(?P<Teams>[\\w ]+)(?:\\[note [\\d]\\])?')['Teams']\n",
    "    \n",
    "    # Drop empty teams\n",
    "    cities['NHL'] = cities['NHL'].replace('—',np.nan)\n",
    "\n",
    "    # Extract team names per metropolitan area\n",
    "    cities['NHL'] = cities['NHL'].str.findall('([A-Z][a-z0-9]+ [A-Z][a-z0-9]+)|([A-Z][a-z0-9 ]+)').apply(lambda x: [cg1 if cg2 == '' else cg2 for cg1,cg2 in x] if type(x) == type([]) else [])\n",
    "    cities['NHL Win Loss Ratio'] = cities['NHL'].apply(nhl_compute_wl_ratio_by_area)\n",
    "    \n",
    "    \n",
    "    # NBA\n",
    "    nba_df = nba_df[nba_df['year'] == 2018]\n",
    "    nba_df = nba_df[~nba_df['team'].str.contains('Division')]\n",
    "    nba_df = nba_df.replace('—',np.nan)\n",
    "    # Almost all of the columns are of type 'str', cast them to numeric\n",
    "    nba_numeric_columns = nba_df.columns[1:-1]\n",
    "    nba_df[nba_numeric_columns] = nba_df[nba_numeric_columns].apply(pd.to_numeric)\n",
    "\n",
    "    # Remove [note **] patterns\n",
    "    cities['NBA'] = cities['NBA'].str.extract('^(?P<Teams>[\\w ]+)(?:\\[note [\\d]\\])?')['Teams']\n",
    "    # Cast population column to numeric\n",
    "    cities['Population (2016 est.)[8]'] = pd.to_numeric(cities['Population (2016 est.)[8]'])\n",
    "    # Drop empty teams\n",
    "    cities['NBA'] = cities['NBA'].replace('—',np.nan)\n",
    "\n",
    "    # Extract team names per metropolitan area\n",
    "    cities['NBA'] = cities['NBA'].str.findall('([A-Z0-9][a-z0-9]+ [A-Z0-9][a-z0-9]+)|([A-Z0-9][a-z0-9 ]+)').apply(lambda x: [cg1 if cg2 == '' else cg2 for cg1,cg2 in x] if type(x) == type([]) else [])\n",
    "    cities['NBA Win Loss Ratio'] = cities['NBA'].apply(nba_compute_wl_ratio_by_area)\n",
    "    \n",
    "    # MLB\n",
    "    mlb_df = mlb_df[mlb_df['year'] == 2018]\n",
    "    mlb_df = mlb_df[~mlb_df['team'].str.contains('Division')]\n",
    "    mlb_df = mlb_df.replace('—',np.nan)\n",
    "    mlb_df = mlb_df.replace('--',np.nan)\n",
    "    # Almost all of the columns are of type 'str', cast them to numeric\n",
    "    mlb_numeric_columns = mlb_df.columns[1:-1]\n",
    "    mlb_df[mlb_numeric_columns] = mlb_df[mlb_numeric_columns].apply(pd.to_numeric)\n",
    "\n",
    "    # Remove [note **] patterns\n",
    "    cities['MLB'] = cities['MLB'].str.extract('^(?P<Teams>[\\w ]+)(?:\\[note [\\d]\\])?')['Teams']\n",
    "    # Drop empty teams\n",
    "    cities['MLB'] = cities['MLB'].replace('—',np.nan)\n",
    "\n",
    "    # Extract team names per metropolitan area\n",
    "    cities['MLB'] = cities['MLB'].str.findall('([A-Z0-9][a-z0-9]+ [A-Z0-9][a-z0-9]+)|([A-Z0-9][a-z0-9 ]+)').apply(lambda x: [cg1 if cg2 == '' else cg2 for cg1,cg2 in x] if type(x) == type([]) else [])\n",
    "    cities['MLB Win Loss Ratio'] = cities['MLB'].apply(mlb_compute_wl_ratio_by_area)\n",
    "\n",
    "    # NFL\n",
    "    nfl_df = nfl_df[nfl_df['year'] == 2018]\n",
    "    nfl_df = nfl_df[~((nfl_df['team'].str.contains('AFC'))|(nfl_df['team'].str.contains('NFC')))]\n",
    "    nfl_df = nfl_df.replace('—',np.nan)\n",
    "    nfl_df = nfl_df.replace('--',np.nan)\n",
    "    # Almost all of the columns are of type 'str', cast them to numeric\n",
    "    nfl_numeric_columns = list(nfl_df.columns[:2]) + list(nfl_df.columns[3:-2])\n",
    "    nfl_df[nfl_numeric_columns] = nfl_df[nfl_numeric_columns].apply(pd.to_numeric)\n",
    "\n",
    "    # Remove [note **] patterns\n",
    "    cities['NFL'] = cities['NFL'].str.extract('^(?P<Teams>[\\w ]+)(?:\\[note [\\d]\\])?')['Teams']\n",
    "    # Drop empty teams\n",
    "    cities['NFL'] = cities['NFL'].replace('—',np.nan)\n",
    "\n",
    "    # Extract team names per metropolitan area\n",
    "\n",
    "    cities['NFL'] = cities['NFL'].str.findall('([A-Z0-9][a-z0-9]+ [A-Z0-9][a-z0-9]+)|([A-Z0-9][a-z0-9 ]+)').apply(lambda x: [cg1 if cg2 == '' else cg2 for cg1,cg2 in x] if type(x) == type([]) else [])\n",
    "    cities['NFL Win Loss Ratio'] = cities['NFL'].apply(nfl_compute_wl_ratio_by_area)\n",
    "\n",
    "    \n",
    "    # Note: p_values is a full dataframe, so df.loc[\"NFL\",\"NBA\"] should be the same as df.loc[\"NBA\",\"NFL\"] and\n",
    "    # df.loc[\"NFL\",\"NFL\"] should return np.nan\n",
    "    sports = ['NFL', 'NBA', 'NHL', 'MLB']\n",
    "    p_values = pd.DataFrame({k:np.nan for k in sports}, index=sports)\n",
    "    for x in sports:\n",
    "        for y in sports:\n",
    "            if x == y: continue\n",
    "            df1 = cities[[x + ' Win Loss Ratio']].dropna()\n",
    "            df2 = cities[[y + ' Win Loss Ratio']].dropna()\n",
    "            df3 = df1.merge(df2,left_index=True,right_index=True)\n",
    "            p_values.loc[x,y] = stats.ttest_rel(df3[x + ' Win Loss Ratio'],df3[y + ' Win Loss Ratio'])[1]\n",
    "    assert abs(p_values.loc[\"NBA\", \"NHL\"] - 0.02) <= 1e-2, \"The NBA-NHL p-value should be around 0.02\"\n",
    "    assert abs(p_values.loc[\"MLB\", \"NFL\"] - 0.80) <= 1e-2, \"The MLB-NFL p-value should be around 0.80\"\n",
    "    return p_values"
   ]
  },
  {
   "cell_type": "code",
   "execution_count": null,
   "metadata": {
    "deletable": false,
    "editable": false,
    "nbgrader": {
     "checksum": "2a596ab421a45cc01168d10e8fbb8f89",
     "grade": true,
     "grade_id": "cell-fb4b9cb5ff4570a6",
     "locked": true,
     "points": 20,
     "schema_version": 1,
     "solution": false
    }
   },
   "outputs": [],
   "source": []
  }
 ],
 "metadata": {
  "coursera": {
   "schema_names": [
    "mooc_adswpy_1_v2_assignment4"
   ]
  },
  "kernelspec": {
   "display_name": "Python 3",
   "language": "python",
   "name": "python3"
  },
  "language_info": {
   "codemirror_mode": {
    "name": "ipython",
    "version": 3
   },
   "file_extension": ".py",
   "mimetype": "text/x-python",
   "name": "python",
   "nbconvert_exporter": "python",
   "pygments_lexer": "ipython3",
   "version": "3.7.3"
  }
 },
 "nbformat": 4,
 "nbformat_minor": 4
}
