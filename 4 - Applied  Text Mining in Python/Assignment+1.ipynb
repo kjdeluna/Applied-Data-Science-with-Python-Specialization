{
 "cells": [
  {
   "cell_type": "markdown",
   "metadata": {},
   "source": [
    "---\n",
    "\n",
    "_You are currently looking at **version 1.1** of this notebook. To download notebooks and datafiles, as well as get help on Jupyter notebooks in the Coursera platform, visit the [Jupyter Notebook FAQ](https://www.coursera.org/learn/python-text-mining/resources/d9pwm) course resource._\n",
    "\n",
    "---"
   ]
  },
  {
   "cell_type": "markdown",
   "metadata": {},
   "source": [
    "# Assignment 1\n",
    "\n",
    "In this assignment, you'll be working with messy medical data and using regex to extract relevant infromation from the data. \n",
    "\n",
    "Each line of the `dates.txt` file corresponds to a medical note. Each note has a date that needs to be extracted, but each date is encoded in one of many formats.\n",
    "\n",
    "The goal of this assignment is to correctly identify all of the different date variants encoded in this dataset and to properly normalize and sort the dates. \n",
    "\n",
    "Here is a list of some of the variants you might encounter in this dataset:\n",
    "* 04/20/2009; 04/20/09; 4/20/09; 4/3/09\n",
    "* Mar-20-2009; Mar 20, 2009; March 20, 2009;  Mar. 20, 2009; Mar 20 2009;\n",
    "* 20 Mar 2009; 20 March 2009; 20 Mar. 2009; 20 March, 2009\n",
    "* Mar 20th, 2009; Mar 21st, 2009; Mar 22nd, 2009\n",
    "* Feb 2009; Sep 2009; Oct 2010\n",
    "* 6/2008; 12/2009\n",
    "* 2009; 2010\n",
    "\n",
    "Once you have extracted these date patterns from the text, the next step is to sort them in ascending chronological order accoring to the following rules:\n",
    "* Assume all dates in xx/xx/xx format are mm/dd/yy\n",
    "* Assume all dates where year is encoded in only two digits are years from the 1900's (e.g. 1/5/89 is January 5th, 1989)\n",
    "* If the day is missing (e.g. 9/2009), assume it is the first day of the month (e.g. September 1, 2009).\n",
    "* If the month is missing (e.g. 2010), assume it is the first of January of that year (e.g. January 1, 2010).\n",
    "* Watch out for potential typos as this is a raw, real-life derived dataset.\n",
    "\n",
    "With these rules in mind, find the correct date in each note and return a pandas Series in chronological order of the original Series' indices.\n",
    "\n",
    "For example if the original series was this:\n",
    "\n",
    "    0    1999\n",
    "    1    2010\n",
    "    2    1978\n",
    "    3    2015\n",
    "    4    1985\n",
    "\n",
    "Your function should return this:\n",
    "\n",
    "    0    2\n",
    "    1    4\n",
    "    2    0\n",
    "    3    1\n",
    "    4    3\n",
    "\n",
    "Your score will be calculated using [Kendall's tau](https://en.wikipedia.org/wiki/Kendall_rank_correlation_coefficient), a correlation measure for ordinal data.\n",
    "\n",
    "*This function should return a Series of length 500 and dtype int.*"
   ]
  },
  {
   "cell_type": "code",
   "execution_count": 1,
   "metadata": {},
   "outputs": [
    {
     "data": {
      "text/plain": [
       "0         03/25/93 Total time of visit (in minutes):\\n\n",
       "1                       6/18/85 Primary Care Doctor:\\n\n",
       "2    sshe plans to move as of 7/8/71 In-Home Servic...\n",
       "3                7 on 9/27/75 Audit C Score Current:\\n\n",
       "4    2/6/96 sleep studyPain Treatment Pain Level (N...\n",
       "5                    .Per 7/06/79 Movement D/O note:\\n\n",
       "6    4, 5/18/78 Patient's thoughts about current su...\n",
       "7    10/24/89 CPT Code: 90801 - Psychiatric Diagnos...\n",
       "8                         3/7/86 SOS-10 Total Score:\\n\n",
       "9             (4/10/71)Score-1Audit C Score Current:\\n\n",
       "dtype: object"
      ]
     },
     "execution_count": 1,
     "metadata": {},
     "output_type": "execute_result"
    }
   ],
   "source": [
    "import pandas as pd\n",
    "\n",
    "doc = []\n",
    "with open('readonly/dates.txt') as file:\n",
    "    for line in file:\n",
    "        doc.append(line)\n",
    "\n",
    "df = pd.Series(doc)\n",
    "df.head(10)"
   ]
  },
  {
   "cell_type": "code",
   "execution_count": 2,
   "metadata": {
    "scrolled": true
   },
   "outputs": [
    {
     "data": {
      "text/plain": [
       "0        9\n",
       "1       84\n",
       "2        2\n",
       "3       53\n",
       "4       28\n",
       "      ... \n",
       "495    231\n",
       "496    141\n",
       "497    186\n",
       "498    161\n",
       "499    413\n",
       "Length: 500, dtype: int64"
      ]
     },
     "execution_count": 2,
     "metadata": {},
     "output_type": "execute_result"
    }
   ],
   "source": [
    "def process_year(year):\n",
    "    if len(year) == 2:\n",
    "        return '19' + year\n",
    "    else:\n",
    "        return year\n",
    "    \n",
    "def process_month(month):\n",
    "    if pd.isnull(month):\n",
    "        return '01'\n",
    "    month_dict = {'Jan':'01','Feb':'02','Mar':'03','Apr':'04','May':'05','Jun':'06',\n",
    "                  'Jul':'07','Aug':'08','Sep':'09','Oct':'10','Nov':'11','Dec':'12'}\n",
    "    if month in month_dict:\n",
    "        return month_dict[month]\n",
    "    elif len(month) == 2:\n",
    "        return month\n",
    "    else:\n",
    "        return '0' + month\n",
    "\n",
    "def process_day(day):\n",
    "    if pd.isnull(day):\n",
    "        return '01'\n",
    "    elif len(day) == 1:\n",
    "        return '0' + day\n",
    "    else:\n",
    "        return day\n",
    "\n",
    "def date_sorter():\n",
    "    # m/d/y\n",
    "    regex1 = r'(?P<whole>(?P<month>\\d{1,2})[-/](?P<day>\\d{1,2})[-/](?P<year>\\d{2,4}))' \n",
    "    # m/d/y | m -> word\n",
    "    regex2 = r'(?P<whole2>(?P<month2>Jan|Feb|Mar|Apr|May|Jun|Jul|Aug|Sep|Oct|Nov|Dec)[\\w\\.]*[-/ ](?P<day2>\\d{1,2})(?:\\w{2})?[-/, ] ?(?P<year2>\\d{2,4}))'\n",
    "    # d/m/y\n",
    "    regex3 = r'(?P<whole3>(?P<day3>\\d{1,2})(?:\\w{2})?[-/ ](?P<month3>Jan|Feb|Mar|Apr|May|Jun|Jul|Aug|Sep|Oct|Nov|Dec)[\\w\\.]*[-/, ] ?(?P<year3>\\d{2,4}))'\n",
    "    # m/y | m -> word\n",
    "    regex4 = r'(?P<whole4>(?P<month4>Jan|Feb|Mar|Apr|May|Jun|Jul|Aug|Sep|Oct|Nov|Dec)[\\w\\.]*[-/, ] ?(?P<year4>\\d{2,4}))'\n",
    "    # m/y\n",
    "    regex5 = r'(?P<whole5>(?P<month5>\\d{1,2})[/](?P<year5>\\d{2,4}))'\n",
    "    # y\n",
    "    regex6 = r'(?P<whole6>(?P<year6>[12]\\d{3}))'\n",
    "    combined_regex = f'{regex1}|{regex2}|{regex3}|{regex4}|{regex5}|{regex6}'\n",
    "    df2 = df.str.extract(combined_regex)\n",
    "    output_df = pd.DataFrame([])\n",
    "    output_df['year'] = (df2['year'].combine_first(df2['year2'])\n",
    "                         .combine_first(df2['year3'])\n",
    "                         .combine_first(df2['year4'])\n",
    "                         .combine_first(df2['year5'])\n",
    "                         .combine_first(df2['year6'])\n",
    "                         .apply(process_year)\n",
    "                        )\n",
    "    output_df['month'] = (df2['month'].combine_first(df2['month2'])\n",
    "                         .combine_first(df2['month3'])\n",
    "                         .combine_first(df2['month4'])\n",
    "                         .combine_first(df2['month5'])\n",
    "                         .apply(process_month)\n",
    "                         )\n",
    "    \n",
    "    output_df['day'] = (df2['day'].combine_first(df2['day2'])\n",
    "                     .combine_first(df2['day3'])\n",
    "                     .apply(process_day)\n",
    "                       )\n",
    "    output_df['formatted_date'] = pd.to_datetime(output_df['year'] + '-' + output_df['month'] + '-' + output_df['day'])\n",
    "    return pd.Series(output_df.sort_values(by='formatted_date').index)\n",
    "\n",
    "date_sorter()\n"
   ]
  },
  {
   "cell_type": "code",
   "execution_count": null,
   "metadata": {},
   "outputs": [],
   "source": []
  }
 ],
 "metadata": {
  "coursera": {
   "course_slug": "python-text-mining",
   "graded_item_id": "LvcWI",
   "launcher_item_id": "krne9",
   "part_id": "Mkp1I"
  },
  "kernelspec": {
   "display_name": "Python 3",
   "language": "python",
   "name": "python3"
  },
  "language_info": {
   "codemirror_mode": {
    "name": "ipython",
    "version": 3
   },
   "file_extension": ".py",
   "mimetype": "text/x-python",
   "name": "python",
   "nbconvert_exporter": "python",
   "pygments_lexer": "ipython3",
   "version": "3.6.10"
  }
 },
 "nbformat": 4,
 "nbformat_minor": 2
}
